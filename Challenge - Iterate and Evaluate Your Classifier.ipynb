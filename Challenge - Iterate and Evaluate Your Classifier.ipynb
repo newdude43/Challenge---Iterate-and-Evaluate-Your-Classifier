{
 "cells": [
  {
   "cell_type": "code",
   "execution_count": 1,
   "metadata": {},
   "outputs": [],
   "source": [
    "import pandas as pd\n",
    "import sklearn\n",
    "import numpy as np\n",
    "import matplotlib.pyplot as plt\n",
    "import seaborn as sns"
   ]
  },
  {
   "cell_type": "markdown",
   "metadata": {},
   "source": [
    "# Test 1"
   ]
  },
  {
   "cell_type": "code",
   "execution_count": 2,
   "metadata": {},
   "outputs": [],
   "source": [
    "# Grab and process the raw data.\n",
    "data_path = (\"https://raw.githubusercontent.com/Thinkful-Ed/data-201-resources/\"\n",
    "             \"master/sms_spam_collection/SMSSpamCollection\"\n",
    "            )\n",
    "sms_raw = pd.read_csv(data_path, delimiter= '\\t', header=None)\n",
    "sms_raw.columns = ['spam', 'message']\n",
    "\n",
    "# Enumerate our spammy keywords.\n",
    "keywords = keywords = ['click', 'offer', 'winner', 'buy', 'free', 'cash', 'urgent']\n",
    "\n",
    "for key in keywords:\n",
    "    sms_raw[str(key)] = sms_raw.message.str.contains(\n",
    "        ' ' + str(key) + ' ',\n",
    "        case=False\n",
    ")\n",
    "\n",
    "sms_raw['allcaps'] = sms_raw.message.str.isupper()\n",
    "sms_raw['spam'] = (sms_raw['spam'] == 'spam')\n",
    "data = sms_raw[keywords + ['allcaps']]\n",
    "target = sms_raw['spam']\n",
    "\n",
    "from sklearn.naive_bayes import BernoulliNB\n",
    "bnb = BernoulliNB()\n",
    "y_pred = bnb.fit(data, target).predict(data)"
   ]
  },
  {
   "cell_type": "code",
   "execution_count": 3,
   "metadata": {},
   "outputs": [
    {
     "name": "stdout",
     "output_type": "stream",
     "text": [
      "With 20% Holdout: 0.884304932735426\n",
      "Testing on Sample: 0.8916008614501076\n"
     ]
    }
   ],
   "source": [
    "# Test your model with different holdout groups.\n",
    "\n",
    "from sklearn.model_selection import train_test_split\n",
    "# Use train_test_split to create the necessary training and test groups\n",
    "X_train, X_test, y_train, y_test = train_test_split(data, target, test_size=0.2, random_state=20)\n",
    "print('With 20% Holdout: ' + str(bnb.fit(X_train, y_train).score(X_test, y_test)))\n",
    "print('Testing on Sample: ' + str(bnb.fit(data, target).score(data, target)))"
   ]
  },
  {
   "cell_type": "code",
   "execution_count": 4,
   "metadata": {},
   "outputs": [
    {
     "data": {
      "text/plain": [
       "array([0.89784946, 0.89426523, 0.89426523, 0.890681  , 0.89605735,\n",
       "       0.89048474, 0.88150808, 0.89028777, 0.88489209, 0.89568345])"
      ]
     },
     "execution_count": 4,
     "metadata": {},
     "output_type": "execute_result"
    }
   ],
   "source": [
    "from sklearn.model_selection import cross_val_score\n",
    "cross_val_score(bnb, data, target, cv=10)"
   ]
  },
  {
   "cell_type": "code",
   "execution_count": 5,
   "metadata": {},
   "outputs": [
    {
     "name": "stdout",
     "output_type": "stream",
     "text": [
      "             spam     click     offer    winner       buy      free      cash  \\\n",
      "spam     1.000000  0.051323  0.097010  0.107764 -0.031855  0.316570  0.237014   \n",
      "click    0.051323  1.000000 -0.001762 -0.001392 -0.003124 -0.005735 -0.003454   \n",
      "offer    0.097010 -0.001762  1.000000 -0.002275 -0.005106  0.109339 -0.005646   \n",
      "winner   0.107764 -0.001392 -0.002275  1.000000 -0.004035 -0.007407  0.199283   \n",
      "buy     -0.031855 -0.003124 -0.005106 -0.004035  1.000000 -0.016623 -0.010011   \n",
      "free     0.316570 -0.005735  0.109339 -0.007407 -0.016623  1.000000 -0.008204   \n",
      "cash     0.237014 -0.003454 -0.005646  0.199283 -0.010011 -0.008204  1.000000   \n",
      "urgent   0.068547 -0.001245 -0.002035 -0.001608 -0.003608 -0.006624  0.041561   \n",
      "allcaps -0.039272 -0.004301 -0.007030 -0.005554 -0.012465 -0.022883 -0.013782   \n",
      "\n",
      "           urgent   allcaps  \n",
      "spam     0.068547 -0.039272  \n",
      "click   -0.001245 -0.004301  \n",
      "offer   -0.002035 -0.007030  \n",
      "winner  -0.001608 -0.005554  \n",
      "buy     -0.003608 -0.012465  \n",
      "free    -0.006624 -0.022883  \n",
      "cash     0.041561 -0.013782  \n",
      "urgent   1.000000 -0.004967  \n",
      "allcaps -0.004967  1.000000  \n"
     ]
    },
    {
     "data": {
      "image/png": "[encoded data removed]",
      "text/plain": [
       "<Figure size 864x648 with 2 Axes>"
      ]
     },
     "metadata": {},
     "output_type": "display_data"
    }
   ],
   "source": [
    "corrmat = sms_raw.corr()\n",
    "print(corrmat)\n",
    "\n",
    "# Set up the matplotlib figure.\n",
    "f, ax = plt.subplots(figsize=(12, 9))\n",
    "\n",
    "# Draw the heatmap using seaborn.\n",
    "sns.heatmap(corrmat, vmax=.8, square=True)\n",
    "plt.show()"
   ]
  },
  {
   "cell_type": "markdown",
   "metadata": {},
   "source": [
    "**Test 1:**\n",
    "\n",
    "With 20% Holdout: 0.884304932735426\n",
    "Testing on Sample: 0.8916008614501076\n",
    "\n",
    "array([0.89784946, 0.89426523, 0.89426523, 0.890681  , 0.89605735,\n",
    "       0.89048474, 0.88150808, 0.89028777, 0.88489209, 0.89568345])\n",
    "       \n",
    "'free' and 'spam' had highest correlation. 'cash'/'spam' and 'cash'/'winner' had second highest. "
   ]
  },
  {
   "cell_type": "markdown",
   "metadata": {},
   "source": [
    "# Test 2"
   ]
  },
  {
   "cell_type": "code",
   "execution_count": 6,
   "metadata": {},
   "outputs": [],
   "source": [
    "# Grab and process the raw data.\n",
    "data_path = (\"https://raw.githubusercontent.com/Thinkful-Ed/data-201-resources/\"\n",
    "             \"master/sms_spam_collection/SMSSpamCollection\"\n",
    "            )\n",
    "sms_raw = pd.read_csv(data_path, delimiter= '\\t', header=None)\n",
    "sms_raw.columns = ['spam', 'message']\n",
    "\n",
    "# Enumerate our spammy keywords.\n",
    "keywords = keywords = ['click', 'offer', 'winner', 'buy', 'free', 'cash', 'urgent', \n",
    "                       'greetings', 'general', 'affordable', 'bankruptcy']\n",
    "\n",
    "for key in keywords:\n",
    "    sms_raw[str(key)] = sms_raw.message.str.contains(\n",
    "        ' ' + str(key) + ' ',\n",
    "        case=False\n",
    ")\n",
    "\n",
    "sms_raw['allcaps'] = sms_raw.message.str.isupper()\n",
    "sms_raw['spam'] = (sms_raw['spam'] == 'spam')\n",
    "data = sms_raw[keywords + ['allcaps']]\n",
    "target = sms_raw['spam']\n",
    "\n",
    "from sklearn.naive_bayes import BernoulliNB\n",
    "bnb = BernoulliNB()\n",
    "y_pred = bnb.fit(data, target).predict(data)"
   ]
  },
  {
   "cell_type": "code",
   "execution_count": 7,
   "metadata": {},
   "outputs": [
    {
     "name": "stdout",
     "output_type": "stream",
     "text": [
      "With 20% Holdout: 0.884304932735426\n",
      "Testing on Sample: 0.8916008614501076\n"
     ]
    }
   ],
   "source": [
    "# Test your model with different holdout groups.\n",
    "\n",
    "from sklearn.model_selection import train_test_split\n",
    "# Use train_test_split to create the necessary training and test groups\n",
    "X_train, X_test, y_train, y_test = train_test_split(data, target, test_size=0.2, random_state=20)\n",
    "print('With 20% Holdout: ' + str(bnb.fit(X_train, y_train).score(X_test, y_test)))\n",
    "print('Testing on Sample: ' + str(bnb.fit(data, target).score(data, target)))"
   ]
  },
  {
   "cell_type": "code",
   "execution_count": 8,
   "metadata": {},
   "outputs": [
    {
     "data": {
      "text/plain": [
       "array([0.89784946, 0.89426523, 0.89426523, 0.890681  , 0.89605735,\n",
       "       0.89048474, 0.88150808, 0.89028777, 0.88489209, 0.89568345])"
      ]
     },
     "execution_count": 8,
     "metadata": {},
     "output_type": "execute_result"
    }
   ],
   "source": [
    "from sklearn.model_selection import cross_val_score\n",
    "cross_val_score(bnb, data, target, cv=10)"
   ]
  },
  {
   "cell_type": "code",
   "execution_count": 9,
   "metadata": {},
   "outputs": [
    {
     "name": "stdout",
     "output_type": "stream",
     "text": [
      "                spam     click     offer    winner       buy      free  \\\n",
      "spam        1.000000  0.051323  0.097010  0.107764 -0.031855  0.316570   \n",
      "click       0.051323  1.000000 -0.001762 -0.001392 -0.003124 -0.005735   \n",
      "offer       0.097010 -0.001762  1.000000 -0.002275 -0.005106  0.109339   \n",
      "winner      0.107764 -0.001392 -0.002275  1.000000 -0.004035 -0.007407   \n",
      "buy        -0.031855 -0.003124 -0.005106 -0.004035  1.000000 -0.016623   \n",
      "free        0.316570 -0.005735  0.109339 -0.007407 -0.016623  1.000000   \n",
      "cash        0.237014 -0.003454 -0.005646  0.199283 -0.010011 -0.008204   \n",
      "urgent      0.068547 -0.001245 -0.002035 -0.001608 -0.003608 -0.006624   \n",
      "greetings  -0.005272 -0.000440 -0.000719 -0.000568 -0.001275 -0.002340   \n",
      "general    -0.005272 -0.000440 -0.000719 -0.000568 -0.001275 -0.002340   \n",
      "affordable       NaN       NaN       NaN       NaN       NaN       NaN   \n",
      "bankruptcy       NaN       NaN       NaN       NaN       NaN       NaN   \n",
      "allcaps    -0.039272 -0.004301 -0.007030 -0.005554 -0.012465 -0.022883   \n",
      "\n",
      "                cash    urgent  greetings   general  affordable  bankruptcy  \\\n",
      "spam        0.237014  0.068547  -0.005272 -0.005272         NaN         NaN   \n",
      "click      -0.003454 -0.001245  -0.000440 -0.000440         NaN         NaN   \n",
      "offer      -0.005646 -0.002035  -0.000719 -0.000719         NaN         NaN   \n",
      "winner      0.199283 -0.001608  -0.000568 -0.000568         NaN         NaN   \n",
      "buy        -0.010011 -0.003608  -0.001275 -0.001275         NaN         NaN   \n",
      "free       -0.008204 -0.006624  -0.002340 -0.002340         NaN         NaN   \n",
      "cash        1.000000  0.041561  -0.001410 -0.001410         NaN         NaN   \n",
      "urgent      0.041561  1.000000  -0.000508 -0.000508         NaN         NaN   \n",
      "greetings  -0.001410 -0.000508   1.000000 -0.000180         NaN         NaN   \n",
      "general    -0.001410 -0.000508  -0.000180  1.000000         NaN         NaN   \n",
      "affordable       NaN       NaN        NaN       NaN         NaN         NaN   \n",
      "bankruptcy       NaN       NaN        NaN       NaN         NaN         NaN   \n",
      "allcaps    -0.013782 -0.004967  -0.001755 -0.001755         NaN         NaN   \n",
      "\n",
      "             allcaps  \n",
      "spam       -0.039272  \n",
      "click      -0.004301  \n",
      "offer      -0.007030  \n",
      "winner     -0.005554  \n",
      "buy        -0.012465  \n",
      "free       -0.022883  \n",
      "cash       -0.013782  \n",
      "urgent     -0.004967  \n",
      "greetings  -0.001755  \n",
      "general    -0.001755  \n",
      "affordable       NaN  \n",
      "bankruptcy       NaN  \n",
      "allcaps     1.000000  \n"
     ]
    },
    {
     "data": {
      "image/png": "[encoded data removed]",
      "text/plain": [
       "<Figure size 864x648 with 2 Axes>"
      ]
     },
     "metadata": {},
     "output_type": "display_data"
    }
   ],
   "source": [
    "corrmat = sms_raw.corr()\n",
    "print(corrmat)\n",
    "\n",
    "# Set up the matplotlib figure.\n",
    "f, ax = plt.subplots(figsize=(12, 9))\n",
    "\n",
    "# Draw the heatmap using seaborn.\n",
    "sns.heatmap(corrmat, vmax=.8, square=True)\n",
    "plt.show()"
   ]
  },
  {
   "cell_type": "markdown",
   "metadata": {},
   "source": [
    "**Test 2 Results:**\n",
    "-Add 'greetings', 'general', 'affordable', 'bankruptcy'\n",
    "\n",
    "With 20% Holdout: 0.884304932735426\n",
    "Testing on Sample: 0.8916008614501076\n",
    "\n",
    "array([0.89784946, 0.89426523, 0.89426523, 0.890681  , 0.89605735,\n",
    "       0.89048474, 0.88150808, 0.89028777, 0.88489209, 0.89568345])\n",
    "\n",
    "Same keyword correlations as test 1.  'affordable' and 'bankruptcy' were not included at all. Got same exact numbers in tests."
   ]
  },
  {
   "cell_type": "markdown",
   "metadata": {},
   "source": [
    "# Test 3"
   ]
  },
  {
   "cell_type": "code",
   "execution_count": 10,
   "metadata": {},
   "outputs": [],
   "source": [
    "# Grab and process the raw data.\n",
    "data_path = (\"https://raw.githubusercontent.com/Thinkful-Ed/data-201-resources/\"\n",
    "             \"master/sms_spam_collection/SMSSpamCollection\"\n",
    "            )\n",
    "sms_raw = pd.read_csv(data_path, delimiter= '\\t', header=None)\n",
    "sms_raw.columns = ['spam', 'message']\n",
    "\n",
    "# Enumerate our spammy keywords.\n",
    "keywords = keywords = ['click', 'offer', 'winner', 'buy', 'free', 'cash', 'urgent', \n",
    "                       'greetings', 'general', 'affordable', 'bankruptcy', 'order', 'clearance', \n",
    "                       'shopper', 'meet', 'singles', 'income', 'boss', 'babes', 'make','opportunity']\n",
    "\n",
    "for key in keywords:\n",
    "    sms_raw[str(key)] = sms_raw.message.str.contains(\n",
    "        ' ' + str(key) + ' ',\n",
    "        case=False\n",
    ")\n",
    "\n",
    "sms_raw['allcaps'] = sms_raw.message.str.isupper()\n",
    "sms_raw['spam'] = (sms_raw['spam'] == 'spam')\n",
    "data = sms_raw[keywords + ['allcaps']]\n",
    "target = sms_raw['spam']\n",
    "\n",
    "from sklearn.naive_bayes import BernoulliNB\n",
    "bnb = BernoulliNB()\n",
    "y_pred = bnb.fit(data, target).predict(data)"
   ]
  },
  {
   "cell_type": "code",
   "execution_count": 11,
   "metadata": {},
   "outputs": [
    {
     "name": "stdout",
     "output_type": "stream",
     "text": [
      "With 20% Holdout: 0.8834080717488789\n",
      "Testing on Sample: 0.8921392677674085\n"
     ]
    }
   ],
   "source": [
    "# Test your model with different holdout groups.\n",
    "\n",
    "from sklearn.model_selection import train_test_split\n",
    "# Use train_test_split to create the necessary training and test groups\n",
    "X_train, X_test, y_train, y_test = train_test_split(data, target, test_size=0.2, random_state=20)\n",
    "print('With 20% Holdout: ' + str(bnb.fit(X_train, y_train).score(X_test, y_test)))\n",
    "print('Testing on Sample: ' + str(bnb.fit(data, target).score(data, target)))"
   ]
  },
  {
   "cell_type": "code",
   "execution_count": 12,
   "metadata": {},
   "outputs": [
    {
     "data": {
      "text/plain": [
       "array([0.89784946, 0.88888889, 0.89426523, 0.890681  , 0.89784946,\n",
       "       0.88868941, 0.88330341, 0.88669065, 0.88489209, 0.89388489])"
      ]
     },
     "execution_count": 12,
     "metadata": {},
     "output_type": "execute_result"
    }
   ],
   "source": [
    "from sklearn.model_selection import cross_val_score\n",
    "cross_val_score(bnb, data, target, cv=10)"
   ]
  },
  {
   "cell_type": "code",
   "execution_count": 13,
   "metadata": {},
   "outputs": [
    {
     "name": "stdout",
     "output_type": "stream",
     "text": [
      "                 spam     click     offer    winner       buy      free  \\\n",
      "spam         1.000000  0.051323  0.097010  0.107764 -0.031855  0.316570   \n",
      "click        0.051323  1.000000 -0.001762 -0.001392 -0.003124 -0.005735   \n",
      "offer        0.097010 -0.001762  1.000000 -0.002275 -0.005106  0.109339   \n",
      "winner       0.107764 -0.001392 -0.002275  1.000000 -0.004035 -0.007407   \n",
      "buy         -0.031855 -0.003124 -0.005106 -0.004035  1.000000 -0.016623   \n",
      "free         0.316570 -0.005735  0.109339 -0.007407 -0.016623  1.000000   \n",
      "cash         0.237014 -0.003454 -0.005646  0.199283 -0.010011 -0.008204   \n",
      "urgent       0.068547 -0.001245 -0.002035 -0.001608 -0.003608 -0.006624   \n",
      "greetings   -0.005272 -0.000440 -0.000719 -0.000568 -0.001275 -0.002340   \n",
      "general     -0.005272 -0.000440 -0.000719 -0.000568 -0.001275 -0.002340   \n",
      "affordable        NaN       NaN       NaN       NaN       NaN       NaN   \n",
      "bankruptcy        NaN       NaN       NaN       NaN       NaN       NaN   \n",
      "order        0.057396 -0.001588 -0.002595 -0.002050  0.034845 -0.008448   \n",
      "clearance         NaN       NaN       NaN       NaN       NaN       NaN   \n",
      "shopper           NaN       NaN       NaN       NaN       NaN       NaN   \n",
      "meet        -0.021220 -0.003730 -0.006097 -0.004817  0.006157 -0.010407   \n",
      "singles      0.076166 -0.000984 -0.001608 -0.001271 -0.002852  0.065482   \n",
      "income            NaN       NaN       NaN       NaN       NaN       NaN   \n",
      "boss        -0.014920 -0.001245 -0.002035 -0.001608 -0.003608 -0.006624   \n",
      "babes        0.028786 -0.000880 -0.001438 -0.001136 -0.002550 -0.004682   \n",
      "make         0.000526  0.037706 -0.007105 -0.005614  0.002026 -0.023130   \n",
      "opportunity -0.009132 -0.000762 -0.001246 -0.000984 -0.002209 -0.004054   \n",
      "allcaps     -0.039272 -0.004301 -0.007030 -0.005554 -0.012465 -0.022883   \n",
      "\n",
      "                 cash    urgent  greetings   general    ...     clearance  \\\n",
      "spam         0.237014  0.068547  -0.005272 -0.005272    ...           NaN   \n",
      "click       -0.003454 -0.001245  -0.000440 -0.000440    ...           NaN   \n",
      "offer       -0.005646 -0.002035  -0.000719 -0.000719    ...           NaN   \n",
      "winner       0.199283 -0.001608  -0.000568 -0.000568    ...           NaN   \n",
      "buy         -0.010011 -0.003608  -0.001275 -0.001275    ...           NaN   \n",
      "free        -0.008204 -0.006624  -0.002340 -0.002340    ...           NaN   \n",
      "cash         1.000000  0.041561  -0.001410 -0.001410    ...           NaN   \n",
      "urgent       0.041561  1.000000  -0.000508 -0.000508    ...           NaN   \n",
      "greetings   -0.001410 -0.000508   1.000000 -0.000180    ...           NaN   \n",
      "general     -0.001410 -0.000508  -0.000180  1.000000    ...           NaN   \n",
      "affordable        NaN       NaN        NaN       NaN    ...           NaN   \n",
      "bankruptcy        NaN       NaN        NaN       NaN    ...           NaN   \n",
      "order       -0.005088 -0.001834  -0.000648 -0.000648    ...           NaN   \n",
      "clearance         NaN       NaN        NaN       NaN    ...           NaN   \n",
      "shopper           NaN       NaN        NaN       NaN    ...           NaN   \n",
      "meet        -0.011952 -0.004308  -0.001522 -0.001522    ...           NaN   \n",
      "singles     -0.003153 -0.001136  -0.000402 -0.000402    ...           NaN   \n",
      "income            NaN       NaN        NaN       NaN    ...           NaN   \n",
      "boss        -0.003989 -0.001438  -0.000508 -0.000508    ...           NaN   \n",
      "babes       -0.002820 -0.001016  -0.000359 -0.000359    ...           NaN   \n",
      "make        -0.000676 -0.005021  -0.001774 -0.001774    ...           NaN   \n",
      "opportunity -0.002442 -0.000880  -0.000311 -0.000311    ...           NaN   \n",
      "allcaps     -0.013782 -0.004967  -0.001755 -0.001755    ...           NaN   \n",
      "\n",
      "             shopper      meet   singles  income      boss     babes  \\\n",
      "spam             NaN -0.021220  0.076166     NaN -0.014920  0.028786   \n",
      "click            NaN -0.003730 -0.000984     NaN -0.001245 -0.000880   \n",
      "offer            NaN -0.006097 -0.001608     NaN -0.002035 -0.001438   \n",
      "winner           NaN -0.004817 -0.001271     NaN -0.001608 -0.001136   \n",
      "buy              NaN  0.006157 -0.002852     NaN -0.003608 -0.002550   \n",
      "free             NaN -0.010407  0.065482     NaN -0.006624 -0.004682   \n",
      "cash             NaN -0.011952 -0.003153     NaN -0.003989 -0.002820   \n",
      "urgent           NaN -0.004308 -0.001136     NaN -0.001438 -0.001016   \n",
      "greetings        NaN -0.001522 -0.000402     NaN -0.000508 -0.000359   \n",
      "general          NaN -0.001522 -0.000402     NaN -0.000508 -0.000359   \n",
      "affordable       NaN       NaN       NaN     NaN       NaN       NaN   \n",
      "bankruptcy       NaN       NaN       NaN     NaN       NaN       NaN   \n",
      "order            NaN -0.005494 -0.001449     NaN -0.001834 -0.001296   \n",
      "clearance        NaN       NaN       NaN     NaN       NaN       NaN   \n",
      "shopper          NaN       NaN       NaN     NaN       NaN       NaN   \n",
      "meet             NaN  1.000000  0.103475     NaN -0.004308 -0.003045   \n",
      "singles          NaN  0.103475  1.000000     NaN -0.001136 -0.000803   \n",
      "income           NaN       NaN       NaN     NaN       NaN       NaN   \n",
      "boss             NaN -0.004308 -0.001136     NaN  1.000000 -0.001016   \n",
      "babes            NaN -0.003045 -0.000803     NaN -0.001016  1.000000   \n",
      "make             NaN  0.021848 -0.003968     NaN -0.005021 -0.003549   \n",
      "opportunity      NaN -0.002637 -0.000696     NaN -0.000880 -0.000622   \n",
      "allcaps          NaN  0.022392 -0.003926     NaN -0.004967 -0.003511   \n",
      "\n",
      "                 make  opportunity   allcaps  \n",
      "spam         0.000526    -0.009132 -0.039272  \n",
      "click        0.037706    -0.000762 -0.004301  \n",
      "offer       -0.007105    -0.001246 -0.007030  \n",
      "winner      -0.005614    -0.000984 -0.005554  \n",
      "buy          0.002026    -0.002209 -0.012465  \n",
      "free        -0.023130    -0.004054 -0.022883  \n",
      "cash        -0.000676    -0.002442 -0.013782  \n",
      "urgent      -0.005021    -0.000880 -0.004967  \n",
      "greetings   -0.001774    -0.000311 -0.001755  \n",
      "general     -0.001774    -0.000311 -0.001755  \n",
      "affordable        NaN          NaN       NaN  \n",
      "bankruptcy        NaN          NaN       NaN  \n",
      "order       -0.006403    -0.001122 -0.006335  \n",
      "clearance         NaN          NaN       NaN  \n",
      "shopper           NaN          NaN       NaN  \n",
      "meet         0.021848    -0.002637  0.022392  \n",
      "singles     -0.003968    -0.000696 -0.003926  \n",
      "income            NaN          NaN       NaN  \n",
      "boss        -0.005021    -0.000880 -0.004967  \n",
      "babes       -0.003549    -0.000622 -0.003511  \n",
      "make         1.000000    -0.003073 -0.017344  \n",
      "opportunity -0.003073     1.000000 -0.003040  \n",
      "allcaps     -0.017344    -0.003040  1.000000  \n",
      "\n",
      "[23 rows x 23 columns]\n"
     ]
    },
    {
     "data": {
      "image/png": "[encoded data removed]",
      "text/plain": [
       "<Figure size 864x648 with 2 Axes>"
      ]
     },
     "metadata": {},
     "output_type": "display_data"
    }
   ],
   "source": [
    "corrmat = sms_raw.corr()\n",
    "print(corrmat)\n",
    "\n",
    "# Set up the matplotlib figure.\n",
    "f, ax = plt.subplots(figsize=(12, 9))\n",
    "\n",
    "# Draw the heatmap using seaborn.\n",
    "sns.heatmap(corrmat, vmax=.8, square=True)\n",
    "plt.show()"
   ]
  },
  {
   "cell_type": "markdown",
   "metadata": {},
   "source": [
    "**Test 3 Results:**\n",
    "-Add 'order', 'clearance', 'shopper', 'meet', 'singles', 'income', 'boss', 'babes', 'make','opportunity'\n",
    "\n",
    "With 20% Holdout: 0.8834080717488789\n",
    "Testing on Sample: 0.8921392677674085\n",
    "\n",
    "array([0.89784946, 0.88888889, 0.89426523, 0.890681  , 0.89784946,\n",
    "       0.88868941, 0.88330341, 0.88669065, 0.88489209, 0.89388489])\n",
    "       \n",
    "'affordable', 'income', 'shopper', 'clearance', 'bankruptcy' were not included\n",
    "\n",
    "'spam'/'free', 'spam'/'cash', 'winner'/'cash' higher correlations"
   ]
  },
  {
   "cell_type": "markdown",
   "metadata": {},
   "source": [
    "# Test 4"
   ]
  },
  {
   "cell_type": "code",
   "execution_count": 14,
   "metadata": {},
   "outputs": [],
   "source": [
    "# Grab and process the raw data.\n",
    "data_path = (\"https://raw.githubusercontent.com/Thinkful-Ed/data-201-resources/\"\n",
    "             \"master/sms_spam_collection/SMSSpamCollection\"\n",
    "            )\n",
    "sms_raw = pd.read_csv(data_path, delimiter= '\\t', header=None)\n",
    "sms_raw.columns = ['spam', 'message']\n",
    "\n",
    "# Enumerate our spammy keywords.\n",
    "keywords = keywords = ['click', 'offer', 'buy', 'cash', 'urgent', \n",
    "                       'greetings', 'general', 'affordable', 'bankruptcy', 'order', 'clearance', \n",
    "                       'shopper', 'meet', 'singles', 'income', 'boss', 'babes', 'make','opportunity']\n",
    "\n",
    "for key in keywords:\n",
    "    sms_raw[str(key)] = sms_raw.message.str.contains(\n",
    "        ' ' + str(key) + ' ',\n",
    "        case=False\n",
    ")\n",
    "\n",
    "sms_raw['allcaps'] = sms_raw.message.str.isupper()\n",
    "sms_raw['spam'] = (sms_raw['spam'] == 'spam')\n",
    "data = sms_raw[keywords + ['allcaps']]\n",
    "target = sms_raw['spam']\n",
    "\n",
    "from sklearn.naive_bayes import BernoulliNB\n",
    "bnb = BernoulliNB()\n",
    "y_pred = bnb.fit(data, target).predict(data)"
   ]
  },
  {
   "cell_type": "code",
   "execution_count": 15,
   "metadata": {},
   "outputs": [
    {
     "name": "stdout",
     "output_type": "stream",
     "text": [
      "With 20% Holdout: 0.8663677130044843\n",
      "Testing on Sample: 0.8783201722900216\n"
     ]
    }
   ],
   "source": [
    "# Test your model with different holdout groups.\n",
    "\n",
    "from sklearn.model_selection import train_test_split\n",
    "# Use train_test_split to create the necessary training and test groups\n",
    "X_train, X_test, y_train, y_test = train_test_split(data, target, test_size=0.2, random_state=20)\n",
    "print('With 20% Holdout: ' + str(bnb.fit(X_train, y_train).score(X_test, y_test)))\n",
    "print('Testing on Sample: ' + str(bnb.fit(data, target).score(data, target)))"
   ]
  },
  {
   "cell_type": "code",
   "execution_count": 16,
   "metadata": {},
   "outputs": [
    {
     "data": {
      "text/plain": [
       "array([0.87634409, 0.87992832, 0.87275986, 0.88351254, 0.88172043,\n",
       "       0.87612208, 0.87253142, 0.87769784, 0.87410072, 0.87589928])"
      ]
     },
     "execution_count": 16,
     "metadata": {},
     "output_type": "execute_result"
    }
   ],
   "source": [
    "from sklearn.model_selection import cross_val_score\n",
    "cross_val_score(bnb, data, target, cv=10)"
   ]
  },
  {
   "cell_type": "code",
   "execution_count": 17,
   "metadata": {},
   "outputs": [
    {
     "name": "stdout",
     "output_type": "stream",
     "text": [
      "                 spam     click     offer       buy      cash    urgent  \\\n",
      "spam         1.000000  0.051323  0.097010 -0.031855  0.237014  0.068547   \n",
      "click        0.051323  1.000000 -0.001762 -0.003124 -0.003454 -0.001245   \n",
      "offer        0.097010 -0.001762  1.000000 -0.005106 -0.005646 -0.002035   \n",
      "buy         -0.031855 -0.003124 -0.005106  1.000000 -0.010011 -0.003608   \n",
      "cash         0.237014 -0.003454 -0.005646 -0.010011  1.000000  0.041561   \n",
      "urgent       0.068547 -0.001245 -0.002035 -0.003608  0.041561  1.000000   \n",
      "greetings   -0.005272 -0.000440 -0.000719 -0.001275 -0.001410 -0.000508   \n",
      "general     -0.005272 -0.000440 -0.000719 -0.001275 -0.001410 -0.000508   \n",
      "affordable        NaN       NaN       NaN       NaN       NaN       NaN   \n",
      "bankruptcy        NaN       NaN       NaN       NaN       NaN       NaN   \n",
      "order        0.057396 -0.001588 -0.002595  0.034845 -0.005088 -0.001834   \n",
      "clearance         NaN       NaN       NaN       NaN       NaN       NaN   \n",
      "shopper           NaN       NaN       NaN       NaN       NaN       NaN   \n",
      "meet        -0.021220 -0.003730 -0.006097  0.006157 -0.011952 -0.004308   \n",
      "singles      0.076166 -0.000984 -0.001608 -0.002852 -0.003153 -0.001136   \n",
      "income            NaN       NaN       NaN       NaN       NaN       NaN   \n",
      "boss        -0.014920 -0.001245 -0.002035 -0.003608 -0.003989 -0.001438   \n",
      "babes        0.028786 -0.000880 -0.001438 -0.002550 -0.002820 -0.001016   \n",
      "make         0.000526  0.037706 -0.007105  0.002026 -0.000676 -0.005021   \n",
      "opportunity -0.009132 -0.000762 -0.001246 -0.002209 -0.002442 -0.000880   \n",
      "allcaps     -0.039272 -0.004301 -0.007030 -0.012465 -0.013782 -0.004967   \n",
      "\n",
      "             greetings   general  affordable  bankruptcy    ...     clearance  \\\n",
      "spam         -0.005272 -0.005272         NaN         NaN    ...           NaN   \n",
      "click        -0.000440 -0.000440         NaN         NaN    ...           NaN   \n",
      "offer        -0.000719 -0.000719         NaN         NaN    ...           NaN   \n",
      "buy          -0.001275 -0.001275         NaN         NaN    ...           NaN   \n",
      "cash         -0.001410 -0.001410         NaN         NaN    ...           NaN   \n",
      "urgent       -0.000508 -0.000508         NaN         NaN    ...           NaN   \n",
      "greetings     1.000000 -0.000180         NaN         NaN    ...           NaN   \n",
      "general      -0.000180  1.000000         NaN         NaN    ...           NaN   \n",
      "affordable         NaN       NaN         NaN         NaN    ...           NaN   \n",
      "bankruptcy         NaN       NaN         NaN         NaN    ...           NaN   \n",
      "order        -0.000648 -0.000648         NaN         NaN    ...           NaN   \n",
      "clearance          NaN       NaN         NaN         NaN    ...           NaN   \n",
      "shopper            NaN       NaN         NaN         NaN    ...           NaN   \n",
      "meet         -0.001522 -0.001522         NaN         NaN    ...           NaN   \n",
      "singles      -0.000402 -0.000402         NaN         NaN    ...           NaN   \n",
      "income             NaN       NaN         NaN         NaN    ...           NaN   \n",
      "boss         -0.000508 -0.000508         NaN         NaN    ...           NaN   \n",
      "babes        -0.000359 -0.000359         NaN         NaN    ...           NaN   \n",
      "make         -0.001774 -0.001774         NaN         NaN    ...           NaN   \n",
      "opportunity  -0.000311 -0.000311         NaN         NaN    ...           NaN   \n",
      "allcaps      -0.001755 -0.001755         NaN         NaN    ...           NaN   \n",
      "\n",
      "             shopper      meet   singles  income      boss     babes  \\\n",
      "spam             NaN -0.021220  0.076166     NaN -0.014920  0.028786   \n",
      "click            NaN -0.003730 -0.000984     NaN -0.001245 -0.000880   \n",
      "offer            NaN -0.006097 -0.001608     NaN -0.002035 -0.001438   \n",
      "buy              NaN  0.006157 -0.002852     NaN -0.003608 -0.002550   \n",
      "cash             NaN -0.011952 -0.003153     NaN -0.003989 -0.002820   \n",
      "urgent           NaN -0.004308 -0.001136     NaN -0.001438 -0.001016   \n",
      "greetings        NaN -0.001522 -0.000402     NaN -0.000508 -0.000359   \n",
      "general          NaN -0.001522 -0.000402     NaN -0.000508 -0.000359   \n",
      "affordable       NaN       NaN       NaN     NaN       NaN       NaN   \n",
      "bankruptcy       NaN       NaN       NaN     NaN       NaN       NaN   \n",
      "order            NaN -0.005494 -0.001449     NaN -0.001834 -0.001296   \n",
      "clearance        NaN       NaN       NaN     NaN       NaN       NaN   \n",
      "shopper          NaN       NaN       NaN     NaN       NaN       NaN   \n",
      "meet             NaN  1.000000  0.103475     NaN -0.004308 -0.003045   \n",
      "singles          NaN  0.103475  1.000000     NaN -0.001136 -0.000803   \n",
      "income           NaN       NaN       NaN     NaN       NaN       NaN   \n",
      "boss             NaN -0.004308 -0.001136     NaN  1.000000 -0.001016   \n",
      "babes            NaN -0.003045 -0.000803     NaN -0.001016  1.000000   \n",
      "make             NaN  0.021848 -0.003968     NaN -0.005021 -0.003549   \n",
      "opportunity      NaN -0.002637 -0.000696     NaN -0.000880 -0.000622   \n",
      "allcaps          NaN  0.022392 -0.003926     NaN -0.004967 -0.003511   \n",
      "\n",
      "                 make  opportunity   allcaps  \n",
      "spam         0.000526    -0.009132 -0.039272  \n",
      "click        0.037706    -0.000762 -0.004301  \n",
      "offer       -0.007105    -0.001246 -0.007030  \n",
      "buy          0.002026    -0.002209 -0.012465  \n",
      "cash        -0.000676    -0.002442 -0.013782  \n",
      "urgent      -0.005021    -0.000880 -0.004967  \n",
      "greetings   -0.001774    -0.000311 -0.001755  \n",
      "general     -0.001774    -0.000311 -0.001755  \n",
      "affordable        NaN          NaN       NaN  \n",
      "bankruptcy        NaN          NaN       NaN  \n",
      "order       -0.006403    -0.001122 -0.006335  \n",
      "clearance         NaN          NaN       NaN  \n",
      "shopper           NaN          NaN       NaN  \n",
      "meet         0.021848    -0.002637  0.022392  \n",
      "singles     -0.003968    -0.000696 -0.003926  \n",
      "income            NaN          NaN       NaN  \n",
      "boss        -0.005021    -0.000880 -0.004967  \n",
      "babes       -0.003549    -0.000622 -0.003511  \n",
      "make         1.000000    -0.003073 -0.017344  \n",
      "opportunity -0.003073     1.000000 -0.003040  \n",
      "allcaps     -0.017344    -0.003040  1.000000  \n",
      "\n",
      "[21 rows x 21 columns]\n"
     ]
    },
    {
     "data": {
      "image/png": "[encoded data removed]",
      "text/plain": [
       "<Figure size 864x648 with 2 Axes>"
      ]
     },
     "metadata": {},
     "output_type": "display_data"
    }
   ],
   "source": [
    "corrmat = sms_raw.corr()\n",
    "print(corrmat)\n",
    "\n",
    "# Set up the matplotlib figure.\n",
    "f, ax = plt.subplots(figsize=(12, 9))\n",
    "\n",
    "# Draw the heatmap using seaborn.\n",
    "sns.heatmap(corrmat, vmax=.8, square=True)\n",
    "plt.show()"
   ]
  },
  {
   "cell_type": "markdown",
   "metadata": {},
   "source": [
    "**Test 4 Results:**\n",
    "-Take out 'free' and 'winner'\n",
    "\n",
    "With 20% Holdout: 0.8663677130044843\n",
    "Testing on Sample: 0.8783201722900216\n",
    "\n",
    "array([0.87634409, 0.87992832, 0.87275986, 0.88351254, 0.88172043,\n",
    "       0.87612208, 0.87253142, 0.87769784, 0.87410072, 0.87589928])\n",
    "\n",
    "Cash/spam had highest correlation.  Overall correlations are down."
   ]
  },
  {
   "cell_type": "markdown",
   "metadata": {},
   "source": [
    "# Test 5"
   ]
  },
  {
   "cell_type": "code",
   "execution_count": 18,
   "metadata": {},
   "outputs": [],
   "source": [
    "# Grab and process the raw data.\n",
    "data_path = (\"https://raw.githubusercontent.com/Thinkful-Ed/data-201-resources/\"\n",
    "             \"master/sms_spam_collection/SMSSpamCollection\"\n",
    "            )\n",
    "sms_raw = pd.read_csv(data_path, delimiter= '\\t', header=None)\n",
    "sms_raw.columns = ['spam', 'message']\n",
    "\n",
    "# Enumerate our spammy keywords.\n",
    "keywords = keywords = ['click', 'offer', 'buy', 'urgent', 'greetings', 'general', 'order', 'meet', \n",
    "                       'singles', 'boss', 'babes', 'make','opportunity', 'earn', 'fees', 'credit', 'debt', \n",
    "                       'solution']\n",
    "\n",
    "for key in keywords:\n",
    "    sms_raw[str(key)] = sms_raw.message.str.contains(\n",
    "        ' ' + str(key) + ' ',\n",
    "        case=False\n",
    ")\n",
    "\n",
    "sms_raw['allcaps'] = sms_raw.message.str.isupper()\n",
    "sms_raw['spam'] = (sms_raw['spam'] == 'spam')\n",
    "data = sms_raw[keywords + ['allcaps']]\n",
    "target = sms_raw['spam']\n",
    "\n",
    "from sklearn.naive_bayes import BernoulliNB\n",
    "bnb = BernoulliNB()\n",
    "y_pred = bnb.fit(data, target).predict(data)"
   ]
  },
  {
   "cell_type": "code",
   "execution_count": 19,
   "metadata": {},
   "outputs": [
    {
     "name": "stdout",
     "output_type": "stream",
     "text": [
      "With 20% Holdout: 0.8573991031390135\n",
      "Testing on Sample: 0.8702440775305097\n"
     ]
    }
   ],
   "source": [
    "# Test your model with different holdout groups.\n",
    "\n",
    "from sklearn.model_selection import train_test_split\n",
    "# Use train_test_split to create the necessary training and test groups\n",
    "X_train, X_test, y_train, y_test = train_test_split(data, target, test_size=0.2, random_state=20)\n",
    "print('With 20% Holdout: ' + str(bnb.fit(X_train, y_train).score(X_test, y_test)))\n",
    "print('Testing on Sample: ' + str(bnb.fit(data, target).score(data, target)))"
   ]
  },
  {
   "cell_type": "code",
   "execution_count": 20,
   "metadata": {},
   "outputs": [
    {
     "data": {
      "text/plain": [
       "array([0.86917563, 0.86917563, 0.86738351, 0.87096774, 0.87455197,\n",
       "       0.86714542, 0.86894075, 0.8705036 , 0.86510791, 0.86690647])"
      ]
     },
     "execution_count": 20,
     "metadata": {},
     "output_type": "execute_result"
    }
   ],
   "source": [
    "from sklearn.model_selection import cross_val_score\n",
    "cross_val_score(bnb, data, target, cv=10)"
   ]
  },
  {
   "cell_type": "code",
   "execution_count": 21,
   "metadata": {},
   "outputs": [
    {
     "name": "stdout",
     "output_type": "stream",
     "text": [
      "                 spam     click     offer       buy    urgent  greetings  \\\n",
      "spam         1.000000  0.051323  0.097010 -0.031855  0.068547  -0.005272   \n",
      "click        0.051323  1.000000 -0.001762 -0.003124 -0.001245  -0.000440   \n",
      "offer        0.097010 -0.001762  1.000000 -0.005106 -0.002035  -0.000719   \n",
      "buy         -0.031855 -0.003124 -0.005106  1.000000 -0.003608  -0.001275   \n",
      "urgent       0.068547 -0.001245 -0.002035 -0.003608  1.000000  -0.000508   \n",
      "greetings   -0.005272 -0.000440 -0.000719 -0.001275 -0.000508   1.000000   \n",
      "general     -0.005272 -0.000440 -0.000719 -0.001275 -0.000508  -0.000180   \n",
      "order        0.057396 -0.001588 -0.002595  0.034845 -0.001834  -0.000648   \n",
      "meet        -0.021220 -0.003730 -0.006097  0.006157 -0.004308  -0.001522   \n",
      "singles      0.076166 -0.000984 -0.001608 -0.002852 -0.001136  -0.000402   \n",
      "boss        -0.014920 -0.001245 -0.002035 -0.003608 -0.001438  -0.000508   \n",
      "babes        0.028786 -0.000880 -0.001438 -0.002550 -0.001016  -0.000359   \n",
      "make         0.000526  0.037706 -0.007105  0.002026 -0.005021  -0.001774   \n",
      "opportunity -0.009132 -0.000762 -0.001246 -0.002209 -0.000880  -0.000311   \n",
      "earn        -0.007456 -0.000622 -0.001017 -0.001803 -0.000719  -0.000254   \n",
      "fees        -0.009132 -0.000762 -0.001246 -0.002209 -0.000880  -0.000311   \n",
      "credit       0.051323 -0.001078 -0.001762  0.054903 -0.001245  -0.000440   \n",
      "debt              NaN       NaN       NaN       NaN       NaN        NaN   \n",
      "solution          NaN       NaN       NaN       NaN       NaN        NaN   \n",
      "allcaps     -0.039272 -0.004301 -0.007030 -0.012465 -0.004967  -0.001755   \n",
      "\n",
      "              general     order      meet   singles      boss     babes  \\\n",
      "spam        -0.005272  0.057396 -0.021220  0.076166 -0.014920  0.028786   \n",
      "click       -0.000440 -0.001588 -0.003730 -0.000984 -0.001245 -0.000880   \n",
      "offer       -0.000719 -0.002595 -0.006097 -0.001608 -0.002035 -0.001438   \n",
      "buy         -0.001275  0.034845  0.006157 -0.002852 -0.003608 -0.002550   \n",
      "urgent      -0.000508 -0.001834 -0.004308 -0.001136 -0.001438 -0.001016   \n",
      "greetings   -0.000180 -0.000648 -0.001522 -0.000402 -0.000508 -0.000359   \n",
      "general      1.000000 -0.000648 -0.001522 -0.000402 -0.000508 -0.000359   \n",
      "order       -0.000648  1.000000 -0.005494 -0.001449 -0.001834 -0.001296   \n",
      "meet        -0.001522 -0.005494  1.000000  0.103475 -0.004308 -0.003045   \n",
      "singles     -0.000402 -0.001449  0.103475  1.000000 -0.001136 -0.000803   \n",
      "boss        -0.000508 -0.001834 -0.004308 -0.001136  1.000000 -0.001016   \n",
      "babes       -0.000359 -0.001296 -0.003045 -0.000803 -0.001016  1.000000   \n",
      "make        -0.001774 -0.006403  0.021848 -0.003968 -0.005021 -0.003549   \n",
      "opportunity -0.000311 -0.001122 -0.002637 -0.000696 -0.000880 -0.000622   \n",
      "earn        -0.000254 -0.000916 -0.002153 -0.000568 -0.000719 -0.000508   \n",
      "fees        -0.000311 -0.001122 -0.002637 -0.000696 -0.000880 -0.000622   \n",
      "credit      -0.000440 -0.001588 -0.003730 -0.000984 -0.001245 -0.000880   \n",
      "debt              NaN       NaN       NaN       NaN       NaN       NaN   \n",
      "solution          NaN       NaN       NaN       NaN       NaN       NaN   \n",
      "allcaps     -0.001755 -0.006335  0.022392 -0.003926 -0.004967 -0.003511   \n",
      "\n",
      "                 make  opportunity      earn      fees    credit  debt  \\\n",
      "spam         0.000526    -0.009132 -0.007456 -0.009132  0.051323   NaN   \n",
      "click        0.037706    -0.000762 -0.000622 -0.000762 -0.001078   NaN   \n",
      "offer       -0.007105    -0.001246 -0.001017 -0.001246 -0.001762   NaN   \n",
      "buy          0.002026    -0.002209 -0.001803 -0.002209  0.054903   NaN   \n",
      "urgent      -0.005021    -0.000880 -0.000719 -0.000880 -0.001245   NaN   \n",
      "greetings   -0.001774    -0.000311 -0.000254 -0.000311 -0.000440   NaN   \n",
      "general     -0.001774    -0.000311 -0.000254 -0.000311 -0.000440   NaN   \n",
      "order       -0.006403    -0.001122 -0.000916 -0.001122 -0.001588   NaN   \n",
      "meet         0.021848    -0.002637 -0.002153 -0.002637 -0.003730   NaN   \n",
      "singles     -0.003968    -0.000696 -0.000568 -0.000696 -0.000984   NaN   \n",
      "boss        -0.005021    -0.000880 -0.000719 -0.000880 -0.001245   NaN   \n",
      "babes       -0.003549    -0.000622 -0.000508 -0.000622 -0.000880   NaN   \n",
      "make         1.000000    -0.003073 -0.002509 -0.003073 -0.004347   NaN   \n",
      "opportunity -0.003073     1.000000 -0.000440 -0.000539 -0.000762   NaN   \n",
      "earn        -0.002509    -0.000440  1.000000 -0.000440 -0.000622   NaN   \n",
      "fees        -0.003073    -0.000539 -0.000440  1.000000 -0.000762   NaN   \n",
      "credit      -0.004347    -0.000762 -0.000622 -0.000762  1.000000   NaN   \n",
      "debt              NaN          NaN       NaN       NaN       NaN   NaN   \n",
      "solution          NaN          NaN       NaN       NaN       NaN   NaN   \n",
      "allcaps     -0.017344    -0.003040 -0.002482 -0.003040 -0.004301   NaN   \n",
      "\n",
      "             solution   allcaps  \n",
      "spam              NaN -0.039272  \n",
      "click             NaN -0.004301  \n",
      "offer             NaN -0.007030  \n",
      "buy               NaN -0.012465  \n",
      "urgent            NaN -0.004967  \n",
      "greetings         NaN -0.001755  \n",
      "general           NaN -0.001755  \n",
      "order             NaN -0.006335  \n",
      "meet              NaN  0.022392  \n",
      "singles           NaN -0.003926  \n",
      "boss              NaN -0.004967  \n",
      "babes             NaN -0.003511  \n",
      "make              NaN -0.017344  \n",
      "opportunity       NaN -0.003040  \n",
      "earn              NaN -0.002482  \n",
      "fees              NaN -0.003040  \n",
      "credit            NaN -0.004301  \n",
      "debt              NaN       NaN  \n",
      "solution          NaN       NaN  \n",
      "allcaps           NaN  1.000000  \n"
     ]
    },
    {
     "data": {
      "image/png": "[encoded data removed]",
      "text/plain": [
       "<Figure size 864x648 with 2 Axes>"
      ]
     },
     "metadata": {},
     "output_type": "display_data"
    }
   ],
   "source": [
    "corrmat = sms_raw.corr()\n",
    "print(corrmat)\n",
    "\n",
    "# Set up the matplotlib figure.\n",
    "f, ax = plt.subplots(figsize=(12, 9))\n",
    "\n",
    "# Draw the heatmap using seaborn.\n",
    "sns.heatmap(corrmat, vmax=.8, square=True)\n",
    "plt.show()"
   ]
  },
  {
   "cell_type": "markdown",
   "metadata": {},
   "source": [
    "**Test 5 Results:**\n",
    "-Take out 'cash', 'affordable', 'bankruptcy', 'clearance', 'shopper', 'income.'  Add 'earn', 'fees', 'credit', 'debt', 'solution'\n",
    "\n",
    "With 20% Holdout: 0.8573991031390135\n",
    "Testing on Sample: 0.8702440775305097\n",
    "\n",
    "array([0.86917563, 0.86917563, 0.86738351, 0.87096774, 0.87455197,\n",
    " 0.86714542, 0.86894075, 0.8705036 , 0.86510791, 0.86690647])\n",
    "       \n",
    "'meet'/'singles' had highest correlation, but overlation correlation is pretty low.  'debt' and 'solution' were not included."
   ]
  },
  {
   "cell_type": "markdown",
   "metadata": {},
   "source": [
    "# Question Answers"
   ]
  },
  {
   "cell_type": "markdown",
   "metadata": {},
   "source": [
    "1) Correlations were fairly low overal, so overfitting did not seem to be an issue.\n",
    "\n",
    "2) Removing 'debt' from the fifth test group would have best results -\n",
    "\n",
    "    ['click', 'offer', 'buy', 'urgent', 'greetings', 'general', 'order', 'meet', \n",
    "     'singles', 'boss', 'babes', 'make','opportunity', 'earn', 'fees', 'credit', \n",
    "     'solution']\n",
    "     \n",
    "3) 'free' and 'cash' had the highest correlation results.  Removing those brought down the overall correlations."
   ]
  },
  {
   "cell_type": "code",
   "execution_count": null,
   "metadata": {},
   "outputs": [],
   "source": []
  }
 ],
 "metadata": {
  "kernelspec": {
   "display_name": "Python 3",
   "language": "python",
   "name": "python3"
  },
  "language_info": {
   "codemirror_mode": {
    "name": "ipython",
    "version": 3
   },
   "file_extension": ".py",
   "mimetype": "text/x-python",
   "name": "python",
   "nbconvert_exporter": "python",
   "pygments_lexer": "ipython3",
   "version": "3.6.5"
  }
 },
 "nbformat": 4,
 "nbformat_minor": 2
}
